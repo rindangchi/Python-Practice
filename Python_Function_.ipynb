{
  "nbformat": 4,
  "nbformat_minor": 0,
  "metadata": {
    "colab": {
      "provenance": []
    },
    "kernelspec": {
      "name": "python3",
      "display_name": "Python 3"
    },
    "language_info": {
      "name": "python"
    }
  },
  "cells": [
    {
      "cell_type": "markdown",
      "source": [
        "## Case 1 Penghasilan Pegawai"
      ],
      "metadata": {
        "id": "XIaU6qDdNVpD"
      }
    },
    {
      "cell_type": "markdown",
      "source": [
        "###1A.\n",
        "Buatlah sebuah fungsi penghasilan_pegawai yang dapat menampung input dari user yang berisi apakah user merupakan pegawai Tetap / Kontrak dan berapa jumlah jam lembur yang dilakukan oleh user.\n",
        "\n",
        "🔽 Ketika program dijalankan, akan menghasilkan 🔽\n",
        " Kategori Pegawai (Tetap/Kontrak) :\n",
        " Berapa jam lembur :"
      ],
      "metadata": {
        "id": "0QC5E3Nla3-s"
      }
    },
    {
      "cell_type": "code",
      "source": [
        "def penghasilan_pegawai(kategori_pegawai, jam_lembur):\n",
        "    print(f\"Kategori Pegawai : {kategori_pegawai}\")\n",
        "    print(f\"Jam lembur : {jam_lembur}\")"
      ],
      "metadata": {
        "id": "1u2-oIi9a8UD"
      },
      "execution_count": null,
      "outputs": []
    },
    {
      "cell_type": "code",
      "source": [
        "#memanggil fungsi\n",
        "penghasilan_pegawai(\"Tetap\", 5)"
      ],
      "metadata": {
        "id": "ojdPvY6Ba-wM"
      },
      "execution_count": null,
      "outputs": []
    },
    {
      "cell_type": "markdown",
      "source": [
        "###1B.\n",
        "Selanjutnya, kembangkanlah fungsi tersebut agar fungsi dapat menghitung besaran jumlah penghasilan yang didapat pegawai beserta jumlah tambahan penghasilan lemburnya, jika :\n",
        "\n",
        "Input yang diberikan user adalah pegawai tetap, maka fungsi akan menghitung besaran penghasilan yang diterima pegawai tetap beserta jumlah kerja lemburnya, begitupun untuk pegawai kontrak.\n",
        "Penghasilan pegawai tetap sebesar Rp. 4.500.000 dan penghasilan pegawai kontrak 70% dari penghasilan pegawai tetap.\n",
        "Penghasilan tambahan yang bisa didapat dari kerja lembur untuk pegawai tetap adalah Rp. 50.000/jam dan untuk pegawai kontrak Rp. 30.000/jam.\n",
        "Dalam sebulan, seorang pegawai dapat melakukan kerja lembur sebanyak 20 kali. Apabila lebih dari 20 kali, maka penghasilan tambahan yang didapat tetap dihitung tetap sebanyak 20 kali kerja lembur.\n",
        "Pegawai Tetap\tPegawai Kontrak\n",
        "Penghasilan tetap perbulan\tRp. 4.500.000\t70% dari Pegawai tetap\n",
        "Penghasilan tambahan lembur per jam (maks 20 jam)\tRp. 50.000\tRp. 30.000\n",
        "Keterangan :\n",
        " - Anda dapat memanfaatkan branching untuk mengembangkan fungsi.\n",
        " - Untuk meminimalisir terjadinya error, ketika user input kategori selain tetap dan kontrak, maka program akan menampilkan “Kategori yang anda masukkan salah.”\n",
        " - Ketika user input kategori jam lembur bernilai negatif, maka program akan menampilkan “Jam lembur tidak boleh negatif.”"
      ],
      "metadata": {
        "id": "-d_u-a6NbCHX"
      }
    },
    {
      "cell_type": "markdown",
      "source": [
        "🔽 Contoh output yang diharapkan 🔽\n",
        "  Kategori Pegawai (Tetap/Kontrak) : tetap\n",
        "  Berapa jam lembur : 3\n",
        "\n",
        "  Total gaji lembur : Rp. 150000\n",
        "  Pendapatan : Rp. 4650000"
      ],
      "metadata": {
        "id": "FDT72pqObgWZ"
      }
    },
    {
      "cell_type": "markdown",
      "source": [
        "![image.png](data:image/png;base64,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)"
      ],
      "metadata": {
        "id": "FEu8NLnVbkhC"
      }
    },
    {
      "cell_type": "code",
      "source": [
        "def penghasilan_pegawai(kategori_pegawai, jam_lembur):\n",
        "  gaji_tetap = 4500000\n",
        "\n",
        "  if (kategori_pegawai == \"Tetap\" or kategori_pegawai == \"Tetap\"):\n",
        "    if (jam_lembur > 0 and jam_lembur <= 20) :\n",
        "      print(f\"Kategori Pegawai adalah {kategori_pegawai}\")\n",
        "      print(f\"Gaji Tetap adalah {gaji_tetap}\")\n",
        "      print(f\"Jam Lembur adalah {jam_lembur}\")\n",
        "      print(f\"Gaji Lembur adalah {jam_lembur*50000}\")\n",
        "      print(f\"Total Pendapatan adalah {gaji_tetap+(jam_lembur*50000)}\")\n",
        "\n",
        "    elif (jam_lembur > 20):\n",
        "      print(f\"Kategori Pegawai adalah {kategori_pegawai}\")\n",
        "      print(f\"Gaji Tetap adalah {gaji_tetap}\")\n",
        "      print(f\"Jam Lembur adalah {20}\")\n",
        "      print(f\"Gaji Lembur adalah {20*50000}\")\n",
        "      print(f\"Total Pendapatan adalah {gaji_tetap+(20*50000)}\")\n",
        "\n",
        "    else:\n",
        "      print(\"jam lembur tidak boleh negatif\")\n",
        "\n",
        "  elif (kategori_pegawai == \"Kontrak\" or kategori_pegawai == \"kontrak\"):\n",
        "    gaji_tetap = gaji_tetap * 0.75\n",
        "    if (jam_lembur > 0 and jam_lembur <= 20) :\n",
        "      gaji_lembur = jam_lembur * 30000\n",
        "      Total = gaji_tetap + gaji_lembur\n",
        "      print(f\"Kategori Pegawai adalah {kategori_pegawai}\")\n",
        "      print(f\"Gaji Tetap adalah {gaji_tetap*0.75}\")\n",
        "      print(f\"Jam Lembur adalah {jam_lembur}\")\n",
        "      print(f\"Gaji Lembur adalah {jam_lembur*30000}\")\n",
        "      print(f\"Total Pendapatan adalah {Total}\")\n",
        "\n",
        "    elif (jam_lembur > 20):\n",
        "      gaji_lembur = 20 * 30000\n",
        "      Total = gaji_tetap + gaji_lembur\n",
        "      print(f\"Kategori Pegawai adalah {kategori_pegawai}\")\n",
        "      print(f\"Gaji Tetap adalah {gaji_tetap}\")\n",
        "      print(f\"Jam Lembur adalah {20}\")\n",
        "      print(f\"Gaji Lembur adalah {gaji_lembur}\")\n",
        "      print(f\"Total Pendapatan adalah {Total}\")\n",
        "\n",
        "    else:\n",
        "      print(\"jam lembur tidak boleh negatif\")\n",
        "\n",
        "  else:\n",
        "    print(\"input kategori pegawai salah\")\n",
        "\n"
      ],
      "metadata": {
        "id": "3zFH37QBbKuA"
      },
      "execution_count": null,
      "outputs": []
    },
    {
      "cell_type": "code",
      "source": [
        "penghasilan_pegawai(\"Tetap\", 1)"
      ],
      "metadata": {
        "colab": {
          "base_uri": "https://localhost:8080/"
        },
        "id": "NbIiTNJodCjj",
        "outputId": "ba4d6fc6-5242-413c-9857-707f49db9ff7"
      },
      "execution_count": null,
      "outputs": [
        {
          "output_type": "stream",
          "name": "stdout",
          "text": [
            "Kategori Pegawai adalah Tetap\n",
            "Gaji Tetap adalah 4500000\n",
            "Jam Lembur adalah 1\n",
            "Gaji Lembur adalah 50000\n",
            "Total Pendapatan adalah4550000\n"
          ]
        }
      ]
    },
    {
      "cell_type": "markdown",
      "source": [
        "###1C.\n",
        "Setelah anda selesai membuat fungsi penghasilan_pegawai, ternyata anda diberitahu bahwa penghasilan yang diterima pegawai dalam sebulan akan di potong pajak sebesar 1% dari total penghasilan yang diterima selama sebulan.\n",
        "\n",
        "Oleh karena itu, anda diminta untuk menambahkan perhitungan yang dapat menghitung penghasilan yang diterima pegawai setelah dipotong pajak."
      ],
      "metadata": {
        "id": "LJBM7_bwtZ5O"
      }
    },
    {
      "cell_type": "code",
      "source": [
        "def penghasilan_pegawai(kategori_pegawai, jam_lembur):\n",
        "  gaji_tetap = 4500000\n",
        "\n",
        "  if (kategori_pegawai == \"Tetap\" or kategori_pegawai == \"Tetap\"):\n",
        "\n",
        "    if (jam_lembur > 0 and jam_lembur <= 20) :\n",
        "      gaji_lembur = jam_lembur * 50000\n",
        "      Total = gaji_tetap + gaji_lembur\n",
        "      pajak = Total * 0.01\n",
        "      Pendapatan_setelah_pajak = Total-pajak\n",
        "      print(f\"Kategori Pegawai adalah {kategori_pegawai}\")\n",
        "      print(f\"Gaji Tetap adalah {gaji_tetap}\")\n",
        "      print(f\"Jam Lembur adalah {jam_lembur}\")\n",
        "      print(f\"Gaji Lembur adalah {gaji_lembur}\")\n",
        "      print(f\"Total Pendapatan adalah {Total}\")\n",
        "      print(f\"Pajak Penghasilan adalah {pajak}\")\n",
        "      print(f\"Penghasilan setelah pajak adalah {Pendapatan_setelah_pajak} \")\n",
        "\n",
        "\n",
        "\n",
        "    elif (jam_lembur > 20):\n",
        "      gaji_lembur = 20 * 50000\n",
        "      Total = gaji_tetap + gaji_lembur\n",
        "      pajak = Total * 0.01\n",
        "      Pendapatan_setelah_pajak = Total-pajak\n",
        "      print(f\"Kategori Pegawai adalah {kategori_pegawai}\")\n",
        "      print(f\"Gaji Tetap adalah {gaji_tetap}\")\n",
        "      print(f\"Jam Lembur adalah {20}\")\n",
        "      print(f\"Gaji Lembur adalah {20*50000}\")\n",
        "      print(f\"Total Pendapatan adalah {Total}\")\n",
        "      print(f\"Pajak Penghasilan adalah {pajak}\")\n",
        "      print(f\"Penghasilan setelah pajak adalah {Pendapatan_setelah_pajak} \")\n",
        "\n",
        "    else:\n",
        "      print(\"jam lembur tidak boleh negatif\")\n",
        "\n",
        "  elif (kategori_pegawai == \"Kontrak\" or kategori_pegawai == \"kontrak\"):\n",
        "    gaji_tetap = gaji_tetap * 0.75\n",
        "\n",
        "    if (jam_lembur > 0 and jam_lembur <= 20) :\n",
        "      gaji_lembur = jam_lembur * 30000\n",
        "      Total = gaji_tetap + gaji_lembur\n",
        "      pajak = Total * 0.01\n",
        "      Pendapatan_setelah_pajak = Total-pajak\n",
        "      print(f\"Kategori Pegawai adalah {kategori_pegawai}\")\n",
        "      print(f\"Gaji Tetap adalah {gaji_tetap*0.75}\")\n",
        "      print(f\"Jam Lembur adalah {jam_lembur}\")\n",
        "      print(f\"Gaji Lembur adalah {jam_lembur*30000}\")\n",
        "      print(f\"Total Pendapatan adalah {Total}\")\n",
        "      print(f\"Pajak Penghasilan adalah {pajak}\")\n",
        "      print(f\"Penghasilan setelah pajak adalah {Pendapatan_setelah_pajak} \")\n",
        "\n",
        "    elif (jam_lembur > 20):\n",
        "      gaji_lembur = 20 * 30000\n",
        "      Total = gaji_tetap + gaji_lembur\n",
        "      pajak = Total * 0.01\n",
        "      Pendapatan_setelah_pajak = Total-pajak\n",
        "      print(f\"Kategori Pegawai adalah {kategori_pegawai}\")\n",
        "      print(f\"Gaji Tetap adalah {gaji_tetap}\")\n",
        "      print(f\"Jam Lembur adalah {20}\")\n",
        "      print(f\"Gaji Lembur adalah {gaji_lembur}\")\n",
        "      print(f\"Total Pendapatan adalah {Total}\")\n",
        "      print(f\"Pajak Penghasilan adalah {pajak}\")\n",
        "      print(f\"Penghasilan setelah pajak adalah {Pendapatan_setelah_pajak} \")\n",
        "\n",
        "    else:\n",
        "      print(\"jam lembur tidak boleh negatif\")\n",
        "\n",
        "  else:\n",
        "    print(\"input kategori pegawai salah\")\n"
      ],
      "metadata": {
        "id": "ZIM8RvsntcEk"
      },
      "execution_count": null,
      "outputs": []
    },
    {
      "cell_type": "code",
      "source": [
        "penghasilan_pegawai(\"Tetap\", 1)"
      ],
      "metadata": {
        "colab": {
          "base_uri": "https://localhost:8080/"
        },
        "id": "R99h51qCvBN4",
        "outputId": "82301bda-b428-4029-8756-8f173f1a4750"
      },
      "execution_count": null,
      "outputs": [
        {
          "output_type": "stream",
          "name": "stdout",
          "text": [
            "Kategori Pegawai adalah Tetap\n",
            "Gaji Tetap adalah 4500000\n",
            "Jam Lembur adalah 1\n",
            "Gaji Lembur adalah 50000\n",
            "Total Pendapatan adalah 4550000\n",
            "Pajak Penghasilan adalah 45500.0\n",
            "Penghasilan setelah pajak adalah 4504500.0 \n"
          ]
        }
      ]
    },
    {
      "cell_type": "markdown",
      "source": [
        "##Case 2 : Perhitungan ratio\n",
        "Dalam suatu program perhitungan geometri yang akan dibangun programmer, terdapat sebuah list yang berisikan nilai integer\n",
        "\n",
        "2A.\n",
        "Buatlah list sebuah yang berisikan nilai Nilai : 10, 8, 6, 4, 2, 0, -2, -4."
      ],
      "metadata": {
        "id": "hzaaG3fnva96"
      }
    },
    {
      "cell_type": "code",
      "source": [
        "list_1 = [10, 8, 6, 4, 2, 0, -2, -4]"
      ],
      "metadata": {
        "id": "DOt4KrLCvg2W"
      },
      "execution_count": null,
      "outputs": []
    },
    {
      "cell_type": "markdown",
      "source": [
        "2B.\n",
        "Kemudian, agar program dapat melakukan perhitungan ratio, maka dibuatlah fungsi baru yang dapat menghitung ratio dari jumlah bilangan positif, negatif dan nol terhadap banyaknya elemen yang ada di dalam list, dengan ketelitian hingga 3 angka di belakang koma."
      ],
      "metadata": {
        "id": "-fKWHR46vutB"
      }
    },
    {
      "cell_type": "code",
      "source": [
        "def hitung_ratio(list_ratio):\n",
        "  jumlah_positif = 0\n",
        "  jumlah_negatif = 0\n",
        "  jumlah_nol = 0\n",
        "  for i in list_ratio :\n",
        "    if i > 0 :\n",
        "      jumlah_positif +=1\n",
        "\n",
        "    elif i < 0 :\n",
        "      jumlah_negatif +=1\n",
        "\n",
        "    else :\n",
        "      jumlah_nol += 1\n",
        "\n",
        "  ratio_positif = jumlah_positif/len(list_1)\n",
        "  ratio_negatif = jumlah_negatif/len(list_1)\n",
        "  ratio_nol = jumlah_nol/len(list_1)\n",
        "\n",
        "  print(f\"ratio_positif adalah {ratio_positif}\")\n",
        "  print(f\"ratio_negatif adalah {ratio_negatif}\")\n",
        "  print(f\"ratio_nol adalah {ratio_nol}\")\n"
      ],
      "metadata": {
        "id": "s9pW_BdkvtS6"
      },
      "execution_count": null,
      "outputs": []
    },
    {
      "cell_type": "code",
      "source": [
        "hitung_ratio(list_1)"
      ],
      "metadata": {
        "colab": {
          "base_uri": "https://localhost:8080/"
        },
        "id": "taF8ycgjxnfc",
        "outputId": "05eb686c-5c8b-469b-e176-059b1fb05457"
      },
      "execution_count": null,
      "outputs": [
        {
          "output_type": "stream",
          "name": "stdout",
          "text": [
            "ratio_positif adalah 0.625\n",
            "ratio_negatif adalah 0.25\n",
            "ratio_nol adalah 0.125\n"
          ]
        }
      ]
    },
    {
      "cell_type": "code",
      "source": [
        "jumlah_positif = 0\n",
        "jumlah_negatif = 0\n",
        "jumlah_nol = 0\n",
        "for i in list_1 :\n",
        "  if i > 0 :\n",
        "    jumlah_positif +=1\n",
        "\n",
        "  elif i < 0 :\n",
        "    jumlah_negatif +=1\n",
        "\n",
        "  else :\n",
        "    jumlah_nol += 1\n",
        "\n",
        "ratio_positif = jumlah_positif/len(list_1)\n",
        "ratio_negatif = jumlah_negatif/len(list_1)\n",
        "ratio_nol = jumlah_nol/len(list_1)\n",
        "\n",
        "print(ratio_positif)\n",
        "print(ratio_negatif)\n",
        "print(ratio_nol)\n"
      ],
      "metadata": {
        "id": "dTSAvJJ0wNRi"
      },
      "execution_count": null,
      "outputs": []
    },
    {
      "cell_type": "markdown",
      "source": [
        "## Case 3 : Perhitungan produk yang dibeli setelah dipotong diskon\n",
        "Sebuah platform belanja online sedang mengadakan promo akhir tahun dengan memberikan voucher diskon 40% untuk setiap total produk yang dibeli."
      ],
      "metadata": {
        "id": "GX52AaLgzOhN"
      }
    },
    {
      "cell_type": "markdown",
      "source": [
        "### 3A.\n",
        "Untuk itu, sebagai karyawan dari divisi IT, anda diminta membuat sebuah fungsi sederhana yang dapat menghitung harga yang harus dibayarkan setelah dipotong voucher diskon.\n",
        "\n",
        "Seorang pelanggan dapat membeli produk lebih dari 1. Karena setiap pelanggan pembeliannya berbeda-beda (tidak dapat diketahui jumlah pastinya), disarankan fungsi dibangun dengan jumlah parameter yang bisa diisi berapa pun.\n",
        "\n",
        "Keterangan :\n",
        " - Input yang dimasukkan adalah harga-harga dari produk yang dibeli"
      ],
      "metadata": {
        "id": "iW_9KCswzVMe"
      }
    },
    {
      "cell_type": "code",
      "source": [
        "def harga_belanjaan(*daftar_harga):\n",
        "  total_harga = 0\n",
        "  for i in daftar_harga :\n",
        "    total_harga += i\n",
        "\n",
        "  total_harga = int(total_harga - (total_harga*0.40))\n",
        "  print(f\"harga yang harus dibayarkan adalah : {total_harga}\")\n",
        "\n"
      ],
      "metadata": {
        "id": "3aVMp_kkHcK0"
      },
      "execution_count": null,
      "outputs": []
    },
    {
      "cell_type": "code",
      "source": [
        "harga_belanjaan(100000, 30000, 700000, 150000)"
      ],
      "metadata": {
        "colab": {
          "base_uri": "https://localhost:8080/"
        },
        "id": "_J_vv-_AH-h4",
        "outputId": "79b4e6cb-b849-48df-d452-72f65535657f"
      },
      "execution_count": null,
      "outputs": [
        {
          "output_type": "stream",
          "name": "stdout",
          "text": [
            "harga yang harus dibayarkan adalah : 588000\n"
          ]
        }
      ]
    },
    {
      "cell_type": "markdown",
      "source": [
        "###3B.\n",
        "Panggil fungsi tersebut! terdapat rincian harga-harga produk yang dibeli dari seorang pelanggan : Rp. 200000 + Rp. 300000 + Rp. 400000 + Rp. 500000 + Rp. 600000 + Rp.700000. Berapakah hasil yang dikeluarkan oleh fungsi?\n",
        "\n",
        "🔽 Contoh output yang diharapkan 🔽\n",
        "  Harga akhir yang dibayarkan :\n",
        "  1485000"
      ],
      "metadata": {
        "id": "fV4FokNLKEu6"
      }
    },
    {
      "cell_type": "code",
      "source": [
        "harga_belanjaan(200000, 300000, 400000, 500000, 600000, 700000)"
      ],
      "metadata": {
        "colab": {
          "base_uri": "https://localhost:8080/"
        },
        "id": "5SPxqAWTKHY-",
        "outputId": "97800fcd-ef89-4af6-8519-a246ba1a759c"
      },
      "execution_count": null,
      "outputs": [
        {
          "output_type": "stream",
          "name": "stdout",
          "text": [
            "harga yang harus dibayarkan adalah : 1620000\n"
          ]
        }
      ]
    },
    {
      "cell_type": "markdown",
      "source": [
        "##Case 4 : Laporan penjualan\n",
        "Dari program laporan penjualan sebuah startup, terdapat fungsi perhitungan harga pokok penjualan (pph) suatu produk.\n",
        "\n"
      ],
      "metadata": {
        "id": "nwnnuwXhK4Jk"
      }
    },
    {
      "cell_type": "markdown",
      "source": [
        "### 4A.\n",
        "Dari fungsi diatas, buatlah docstring untuk mempermudah user memahami kode program."
      ],
      "metadata": {
        "id": "RcBvwRFGLA6a"
      }
    },
    {
      "cell_type": "code",
      "source": [
        "def harga_pokok(beli_bersih, stok_awal, stok_akhir):\n",
        "  ''' fungsi untuk menghitung harga pokok'''\n",
        "\n",
        "    hpp = beli_bersih + stok_awal - stok_akhir\n",
        "    return hpp"
      ],
      "metadata": {
        "id": "nPDn4zdYK8Dc"
      },
      "execution_count": null,
      "outputs": []
    },
    {
      "cell_type": "markdown",
      "source": [
        "###4B.\n",
        "Kemudian, setelah di review. Atasan menyarankan anda untuk mengonversi fungsi harga_pokok kedalam bentuk lambda agar menjadi lebih sederhana"
      ],
      "metadata": {
        "id": "bdcfLNojLZRG"
      }
    },
    {
      "cell_type": "code",
      "source": [
        "#Contoh fungsi lambda\n",
        "profit = lambda pendapatan, pengeluaran: pendapatan - pengeluaran"
      ],
      "metadata": {
        "id": "cDwnuDzvLeya"
      },
      "execution_count": null,
      "outputs": []
    },
    {
      "cell_type": "code",
      "source": [
        "hpp = lambda beli_bersih, stok_awal, stok_akhir : beli_bersih + stok_awal - stok_akhir"
      ],
      "metadata": {
        "id": "fyMNyOQELmiJ"
      },
      "execution_count": null,
      "outputs": []
    },
    {
      "cell_type": "markdown",
      "source": [
        "### 4C.\n",
        "Setelah fungsi lambda berhasil dibuat, panggil fungsi tersebut dengan nilai input :\n",
        "\n",
        "pembelian bersih : 500000\n",
        "stok produk di awal : 300000\n",
        "stok produk di akhir : 200000"
      ],
      "metadata": {
        "id": "RqfCDrOdL5FF"
      }
    },
    {
      "cell_type": "code",
      "source": [
        "hpp(500000, 300000, 200000)"
      ],
      "metadata": {
        "colab": {
          "base_uri": "https://localhost:8080/"
        },
        "id": "EjNfmBB4Lzt7",
        "outputId": "c87ec3ca-1fe9-453a-b5ee-d0e0f7b36a11"
      },
      "execution_count": null,
      "outputs": [
        {
          "output_type": "execute_result",
          "data": {
            "text/plain": [
              "600000"
            ]
          },
          "metadata": {},
          "execution_count": 27
        }
      ]
    },
    {
      "cell_type": "markdown",
      "source": [
        "## Case 5 : Daftar pegawai\n",
        "Sebuah perusahaan A baru saja menerima beberapa pegawai baru beserta asal kota pegawai baru tersebut."
      ],
      "metadata": {
        "id": "uI91QLkkMIEB"
      }
    },
    {
      "cell_type": "markdown",
      "source": [
        "### 5A.\n",
        "Karena pegawai baru akan ditambah sewaktu waktu, jadi atasan meminta anda untuk membuat suatu fungsi yang dapat menampilkan nama dan asal kota pegawai baru tanpa batasan nilai jumlah argumen yang diinputkan\n",
        "\n",
        "Catatan :\n",
        "  - Karena diminta untuk menampilkan pasangan nama dan asal kota, anda dapat memanfaatkan arbitrary arguments keyword argument.\n",
        "  - Anda dapat memanfaatkan looping untuk mengembangkan fungsi."
      ],
      "metadata": {
        "id": "TLq-0cqUMKiZ"
      }
    },
    {
      "cell_type": "code",
      "source": [
        "def daftar_karyawan(**kwargs):\n",
        "  for key, values in kwargs.items():\n",
        "    print(f\"{key} berasal dari kota {values}\")"
      ],
      "metadata": {
        "id": "v6mhQaLfMORa"
      },
      "execution_count": null,
      "outputs": []
    },
    {
      "cell_type": "markdown",
      "source": [
        "###5B.\n",
        "Kemudian, selang beberapa hari. Atasan memberikan daftar pegawai baru yang diterima diperusahaan\n",
        "\n",
        "Nama Karyawan\tAsal Kota\n",
        "Irsyaad\tBekasi\n",
        "Chaidar\tTernate\n",
        "Dwita\tBali\n",
        "Fikria\tMalang\n",
        "Nurhaliza\tYogyakarta\n",
        "Panggil fungsi yang sudah dibuat sebelumnya, dengan nilai input nama dan asal kota berdasarkan data yang diberikan oleh atasan.\n",
        "\n",
        "🔽 Contoh output yang diharapkan 🔽\n",
        "  Irsyaad Berasal dari Kota Bekasi\n",
        "  Chaidar Berasal dari Kota Ternate\n",
        "  Dwita Berasal dari Kota Bali\n",
        "  Fikria Berasal dari Kota Malang\n",
        "  Nurhaliza Berasal dari Kota Yogyakarta"
      ],
      "metadata": {
        "id": "0JZhZIDoNNlB"
      }
    },
    {
      "cell_type": "markdown",
      "source": [
        "Nama Karyawan\tAsal Kota\n",
        "Irsyaad\tBekasi\n",
        "Chaidar\tTernate\n",
        "Dwita\tBali\n",
        "Fikria\tMalang\n",
        "Nurhaliza\tYogyakarta"
      ],
      "metadata": {
        "id": "Lpu5Et6_OBKM"
      }
    },
    {
      "cell_type": "code",
      "source": [
        "daftar_karyawan(Irsyaad=\"Bekasi\", Chaidar=\"Ternate\", Dwita = \"Bali\", Fikria=\"Malang\",Nurhaliza=\"Yogyakarta\" )"
      ],
      "metadata": {
        "colab": {
          "base_uri": "https://localhost:8080/"
        },
        "id": "pKCkDRk0NQAN",
        "outputId": "9c6b4fbd-92ef-4a07-bb37-839da2502eaa"
      },
      "execution_count": null,
      "outputs": [
        {
          "output_type": "stream",
          "name": "stdout",
          "text": [
            "Irsyaad berasal dari kota Bekasi\n",
            "Chaidar berasal dari kota Ternate\n",
            "Dwita berasal dari kota Bali\n",
            "Fikria berasal dari kota Malang\n",
            "Nurhaliza berasal dari kota Yogyakarta\n"
          ]
        }
      ]
    },
    {
      "cell_type": "markdown",
      "source": [
        "#Function 2"
      ],
      "metadata": {
        "id": "lbqO1TTbR8Jo"
      }
    },
    {
      "cell_type": "markdown",
      "source": [
        "## Case 1 : Perhitungan Bangun Ruang"
      ],
      "metadata": {
        "id": "jZo8N0ULR_8T"
      }
    },
    {
      "cell_type": "markdown",
      "source": [
        "Buatlah modul lingkaran dengan nama lingkaran.py yang berisi fungsi perhitungan luas lingkaran dan fungsi perhitungan keliling lingkaran.\n",
        "\n",
        "Ketika nantinya fungsi dipanggil, user akan diminta memasukkan nilai jari-jari, selanjutnya dari input jari-jari tersebut fungsi akan melakukan perhitungan bangun ruang lingkaran.\n",
        "\n",
        "Kemudian simpan modul tersebut agar nantinya dapat digunakan kembali.\n",
        "\n",
        "Catatan :\n",
        " - Anda dapat menggunakan input() agar user dapat memasukkan nilai jari-jari.\n",
        " - Rumus luas lingkaran = phi x jari-jari lingkaran x jari-jari lingkaran\n",
        " - Rumus keliling lingkaran = 2 x phi x jari-jari lingkaran\n",
        " - Selain itu, nda dapat memanfaatkan module math yang merupakan module bawaan python untuk menginisialisasi phi tanpa harus mendefinisikannya secara manual.\n",
        " - Untuk mengimpor dan mengakses module math dan fungsi phi, anda dapat mengimplementasikan materi import yang sebelumnya dibahas di pertemuan 8\n",
        " - Gunakan return untuk menyimpan nilai."
      ],
      "metadata": {
        "id": "4rqkB8EiSD0E"
      }
    },
    {
      "cell_type": "code",
      "source": [
        "def luas_lingkaran():\n",
        "  r = int(input((\"masukkan jari-jari lingkaran: \")))\n",
        "  luas = 3.14*(r**2)\n",
        "\n",
        "  return luas\n",
        "\n",
        "def keliling_lingkaran():\n",
        "  r = int(input((\"masukkan jari-jari lingkaran: \")))\n",
        "  keliling = 2 * 3.14 * r\n",
        "\n",
        "  return keliling\n",
        "\n"
      ],
      "metadata": {
        "id": "Rqr5jUQHSI-C"
      },
      "execution_count": null,
      "outputs": []
    },
    {
      "cell_type": "code",
      "source": [
        "luas_lingkaran()\n",
        "keliling_lingkaran()"
      ],
      "metadata": {
        "colab": {
          "base_uri": "https://localhost:8080/"
        },
        "id": "5yPbQY72TssO",
        "outputId": "9596f37e-a7d2-4c39-c6ca-1d86626d8f2d"
      },
      "execution_count": null,
      "outputs": [
        {
          "name": "stdout",
          "output_type": "stream",
          "text": [
            "masukkan jari-jari lingkaran: 7\n",
            "masukkan jari-jari lingkaran: 7\n"
          ]
        },
        {
          "output_type": "execute_result",
          "data": {
            "text/plain": [
              "43.96"
            ]
          },
          "metadata": {},
          "execution_count": 41
        }
      ]
    },
    {
      "cell_type": "markdown",
      "source": [
        "# Exercises: Day 11"
      ],
      "metadata": {
        "id": "zE7hMmb3RGCX"
      }
    },
    {
      "cell_type": "markdown",
      "source": [
        "###1. Declare a function add_two_numbers. It takes two parameters and it returns a sum."
      ],
      "metadata": {
        "id": "ym8MGcHmRHoD"
      }
    },
    {
      "cell_type": "code",
      "source": [
        "def add_two(a,b):\n",
        "  total = a + b\n",
        "\n",
        "  return total"
      ],
      "metadata": {
        "id": "ZpAWSa-8Vkwx"
      },
      "execution_count": null,
      "outputs": []
    },
    {
      "cell_type": "code",
      "source": [
        "add_two(1,2)"
      ],
      "metadata": {
        "colab": {
          "base_uri": "https://localhost:8080/"
        },
        "id": "62Bcs-MuV1r9",
        "outputId": "1ede6bcd-4406-4152-b28e-b518af07c7a3"
      },
      "execution_count": null,
      "outputs": [
        {
          "output_type": "execute_result",
          "data": {
            "text/plain": [
              "3"
            ]
          },
          "metadata": {},
          "execution_count": 43
        }
      ]
    },
    {
      "cell_type": "markdown",
      "source": [
        "### 2. Area of a circle is calculated as follows: area = π x r x r. Write a function that calculates area_of_circle."
      ],
      "metadata": {
        "id": "Li4Z9PRGV80D"
      }
    },
    {
      "cell_type": "code",
      "source": [
        "def area_of_circles(r):\n",
        "  phi = 22/7\n",
        "  area = phi * r * r\n",
        "\n",
        "  return area\n"
      ],
      "metadata": {
        "id": "qvEqWjZHV_Dw"
      },
      "execution_count": null,
      "outputs": []
    },
    {
      "cell_type": "code",
      "source": [
        "area_of_circles(7)"
      ],
      "metadata": {
        "colab": {
          "base_uri": "https://localhost:8080/"
        },
        "id": "w3nXntZoWOqB",
        "outputId": "a62ef206-d63b-4a7f-a5bd-046b928ccfe7"
      },
      "execution_count": null,
      "outputs": [
        {
          "output_type": "execute_result",
          "data": {
            "text/plain": [
              "154.0"
            ]
          },
          "metadata": {},
          "execution_count": 45
        }
      ]
    },
    {
      "cell_type": "markdown",
      "source": [
        "### 3.\n",
        "Write a function called add_all_nums which takes arbitrary number of arguments and sums all the arguments. Check if all the list items are number types. If not do give a reasonable feedback."
      ],
      "metadata": {
        "id": "zWkJUF2VWo7L"
      }
    },
    {
      "cell_type": "code",
      "source": [
        "def add_all_nums(*nums):\n",
        "  total_nums = 0\n",
        "\n",
        "  if all(isinstance(i, (int, float)) for i in nums):\n",
        "\n",
        "    return sum(nums)\n",
        "  else :\n",
        "    print(\"invalid value(s)\")\n"
      ],
      "metadata": {
        "id": "7YSXxGzLWsFi"
      },
      "execution_count": null,
      "outputs": []
    },
    {
      "cell_type": "code",
      "source": [
        "add_all_nums(1,2,3,4,5,6)"
      ],
      "metadata": {
        "colab": {
          "base_uri": "https://localhost:8080/"
        },
        "id": "kWp-5dKnjbfz",
        "outputId": "1b4d63df-50f9-42b0-cbaa-b1e0b098b877"
      },
      "execution_count": null,
      "outputs": [
        {
          "output_type": "execute_result",
          "data": {
            "text/plain": [
              "21"
            ]
          },
          "metadata": {},
          "execution_count": 147
        }
      ]
    },
    {
      "cell_type": "markdown",
      "source": [
        "###4.\n",
        "Temperature in °C can be converted to °F using this formula: °F = (°C x 9/5) + 32. Write a function which converts °C to °F, convert_celsius_to-fahrenheit."
      ],
      "metadata": {
        "id": "e11xpUCK4zP4"
      }
    },
    {
      "cell_type": "code",
      "source": [
        "def convert_celcius_to_fahrenheit(c):\n",
        "  fahrenheit = (c * 9/5) + 32\n",
        "\n",
        "  return fahrenheit\n"
      ],
      "metadata": {
        "id": "MOJL2Tet48Sm"
      },
      "execution_count": null,
      "outputs": []
    },
    {
      "cell_type": "code",
      "source": [
        "convert_celcius_to_fahrenheit(30)"
      ],
      "metadata": {
        "colab": {
          "base_uri": "https://localhost:8080/"
        },
        "id": "eJP1f1JxHeOe",
        "outputId": "43d2c348-78e3-45a3-9703-5ce188fb1aa9"
      },
      "execution_count": null,
      "outputs": [
        {
          "output_type": "execute_result",
          "data": {
            "text/plain": [
              "86.0"
            ]
          },
          "metadata": {},
          "execution_count": 150
        }
      ]
    },
    {
      "cell_type": "markdown",
      "source": [
        "###5\n",
        "Write a function called check-season, it takes a month parameter and returns the season: Autumn, Winter, Spring or Summer."
      ],
      "metadata": {
        "id": "MNb3qGbwHqGg"
      }
    },
    {
      "cell_type": "code",
      "source": [
        "def check_season(month):\n",
        "  if month == 'january' or month == 'february' or  month == 'march' :\n",
        "    season = 'Autumn'\n",
        "    return season\n",
        "\n",
        "  elif month == 'april' or month == 'may' or  month == 'june' :\n",
        "    season = \"Winter\"\n",
        "    return season\n",
        "\n",
        "  elif month == 'july' or month == 'august' or  month == 'sept' :\n",
        "    season = \"Spring\"\n",
        "    return season\n",
        "\n",
        "  else:\n",
        "    season = \"Summer\"\n",
        "    return season\n"
      ],
      "metadata": {
        "id": "QyKi2PcVHtJI"
      },
      "execution_count": null,
      "outputs": []
    },
    {
      "cell_type": "code",
      "source": [
        "check_season('january')"
      ],
      "metadata": {
        "colab": {
          "base_uri": "https://localhost:8080/",
          "height": 35
        },
        "id": "zsMLTSS_IiqY",
        "outputId": "cd405e12-f85d-478f-d719-0dc32ffeef9a"
      },
      "execution_count": null,
      "outputs": [
        {
          "output_type": "execute_result",
          "data": {
            "text/plain": [
              "'Autumn'"
            ],
            "application/vnd.google.colaboratory.intrinsic+json": {
              "type": "string"
            }
          },
          "metadata": {},
          "execution_count": 154
        }
      ]
    },
    {
      "cell_type": "markdown",
      "source": [
        "###6\n",
        "Write a function called calculate_slope which return the slope of a linear equation"
      ],
      "metadata": {
        "id": "o1DGqJM2JzPU"
      }
    },
    {
      "cell_type": "code",
      "source": [
        "def calculate_slope(x1,x2,y1,y2):\n",
        "  gradien = (y2-y1)/(x2-x1)\n",
        "\n",
        "  return gradien"
      ],
      "metadata": {
        "id": "Usx5I7IXJvgM"
      },
      "execution_count": null,
      "outputs": []
    },
    {
      "cell_type": "code",
      "source": [
        "calculate_slope(10,20,20,40)"
      ],
      "metadata": {
        "colab": {
          "base_uri": "https://localhost:8080/"
        },
        "id": "2kyaxZR8KrSU",
        "outputId": "3a01e72d-d775-4afb-8a06-82aab4ce3012"
      },
      "execution_count": null,
      "outputs": [
        {
          "output_type": "execute_result",
          "data": {
            "text/plain": [
              "2.0"
            ]
          },
          "metadata": {},
          "execution_count": 157
        }
      ]
    },
    {
      "cell_type": "markdown",
      "source": [
        "###7.\n",
        "Quadratic equation is calculated as follows: ax² + bx + c = 0. Write a function which calculates solution set of a quadratic equation, solve_quadratic_eqn."
      ],
      "metadata": {
        "id": "kq077jzsLMl_"
      }
    },
    {
      "cell_type": "code",
      "source": [
        "def solve_quadratic_eqn(a,b,c):\n",
        "  x1 = (-b + ((b**2-4*a*c)**0.5))/2*a\n",
        "  x2 = (-b - ((b**2-4*a*c)**0.5))/2*a\n",
        "\n",
        "  return x1, x2\n"
      ],
      "metadata": {
        "id": "m194OHabLQbo"
      },
      "execution_count": null,
      "outputs": []
    },
    {
      "cell_type": "code",
      "source": [
        "solve_quadratic_eqn(1,2,3)"
      ],
      "metadata": {
        "colab": {
          "base_uri": "https://localhost:8080/"
        },
        "id": "yyljw5YKUXpK",
        "outputId": "fbb87480-a26b-4ad0-a577-06450d2c8c6c"
      },
      "execution_count": null,
      "outputs": [
        {
          "output_type": "execute_result",
          "data": {
            "text/plain": [
              "(-0.9999999999999999+1.4142135623730951j)"
            ]
          },
          "metadata": {},
          "execution_count": 159
        }
      ]
    },
    {
      "cell_type": "markdown",
      "source": [
        "### 8.\n",
        "Declare a function named print_list. It takes a list as a parameter and it prints out each element of the list."
      ],
      "metadata": {
        "id": "UwV1Cc82UwXM"
      }
    },
    {
      "cell_type": "code",
      "source": [
        "def print_list(list_area):\n",
        "  for i in list_area:\n",
        "    print(i)"
      ],
      "metadata": {
        "id": "G5TONGKHUzUg"
      },
      "execution_count": null,
      "outputs": []
    },
    {
      "cell_type": "code",
      "source": [
        "list_1 = [1,2,3,4,5,6,7]\n",
        "\n",
        "print_list(list_1)"
      ],
      "metadata": {
        "colab": {
          "base_uri": "https://localhost:8080/"
        },
        "id": "bfdrLyxKU_6C",
        "outputId": "5fa74934-cb8a-48ca-bc66-dc06f2926cff"
      },
      "execution_count": null,
      "outputs": [
        {
          "output_type": "stream",
          "name": "stdout",
          "text": [
            "1\n",
            "2\n",
            "3\n",
            "4\n",
            "5\n",
            "6\n",
            "7\n"
          ]
        }
      ]
    },
    {
      "cell_type": "markdown",
      "source": [
        "### 9.\n",
        "Declare a function named reverse_list. It takes an array as a parameter and it returns the reverse of the array (use loops)."
      ],
      "metadata": {
        "id": "k_Gl3BxTVHz8"
      }
    },
    {
      "cell_type": "code",
      "source": [
        "def reverse_list(list_area):\n",
        "  new_list=[]\n",
        "  for i in range(len(list_area)-1,-1,-1):\n",
        "    new_list.append(list_area[i])\n",
        "\n",
        "  return new_list"
      ],
      "metadata": {
        "id": "_w4Eh8g3VTS2"
      },
      "execution_count": null,
      "outputs": []
    },
    {
      "cell_type": "code",
      "source": [
        "list_1 = ['a','b','c']\n",
        "reverse_list(list_1)"
      ],
      "metadata": {
        "colab": {
          "base_uri": "https://localhost:8080/"
        },
        "id": "LsmGxB-cWbgy",
        "outputId": "1a393246-6ab0-48e1-9c9b-09666d496ad7"
      },
      "execution_count": null,
      "outputs": [
        {
          "output_type": "execute_result",
          "data": {
            "text/plain": [
              "['c', 'b', 'a']"
            ]
          },
          "metadata": {},
          "execution_count": 173
        }
      ]
    },
    {
      "cell_type": "markdown",
      "source": [
        "### 10.\n",
        "Declare a function named capitalize_list_items. It takes a list as a parameter and it returns a capitalized list of items"
      ],
      "metadata": {
        "id": "2OpmbAToXQbi"
      }
    },
    {
      "cell_type": "code",
      "source": [
        "def capitalize_list_item(list_area):\n",
        "  for i in list_area:\n",
        "    print(i.capitalize())"
      ],
      "metadata": {
        "id": "_8ecD13YXTCu"
      },
      "execution_count": null,
      "outputs": []
    },
    {
      "cell_type": "code",
      "source": [
        "list_1 = ['a','b','c']\n",
        "capitalize_list_item(list_1)"
      ],
      "metadata": {
        "colab": {
          "base_uri": "https://localhost:8080/"
        },
        "id": "tM6JHNpuXjKd",
        "outputId": "77d6a942-f91f-4a3a-8b53-e0b76698378d"
      },
      "execution_count": null,
      "outputs": [
        {
          "output_type": "stream",
          "name": "stdout",
          "text": [
            "A\n",
            "B\n",
            "C\n"
          ]
        }
      ]
    },
    {
      "cell_type": "markdown",
      "source": [],
      "metadata": {
        "id": "Enl7AnFVYxoE"
      }
    },
    {
      "cell_type": "markdown",
      "source": [
        "###11.\n",
        "Declare a function named add_item. It takes a list and an item parameters. It returns a list with the item added at the end."
      ],
      "metadata": {
        "id": "0nezvI2sgmAv"
      }
    },
    {
      "cell_type": "code",
      "source": [
        "def add_item(list_item, item):\n",
        "  list_new = []\n",
        "  for i in list_item :\n",
        "    list_new.append(i)\n",
        "\n",
        "  list_new.append(item)\n",
        "\n",
        "  return list_new"
      ],
      "metadata": {
        "id": "MBzjhc52gnot"
      },
      "execution_count": null,
      "outputs": []
    },
    {
      "cell_type": "code",
      "source": [
        "food_staff = ['Potato', 'Tomato', 'Mango', 'Milk']\n",
        "add_item(food_staff, 'Banana')"
      ],
      "metadata": {
        "colab": {
          "base_uri": "https://localhost:8080/"
        },
        "id": "BB7KsKyBke5f",
        "outputId": "3cc171c3-66f3-4b52-cf8c-1a0c06be3e03"
      },
      "execution_count": null,
      "outputs": [
        {
          "output_type": "execute_result",
          "data": {
            "text/plain": [
              "['Potato', 'Tomato', 'Mango', 'Milk', 'Banana']"
            ]
          },
          "metadata": {},
          "execution_count": 25
        }
      ]
    },
    {
      "cell_type": "markdown",
      "source": [
        "### 12.\n",
        "Declare a function named remove_item. It takes a list and an item parameters. It returns a list with the item removed from it."
      ],
      "metadata": {
        "id": "9ye_-th3k-Q7"
      }
    },
    {
      "cell_type": "code",
      "source": [
        "def remove_item(list_item, item):\n",
        "  for i in list_item :\n",
        "    if i == item :\n",
        "      list_item.remove(i)\n",
        "\n",
        "  return list_item"
      ],
      "metadata": {
        "id": "6ZvoHdjAk93s"
      },
      "execution_count": null,
      "outputs": []
    },
    {
      "cell_type": "code",
      "source": [
        "food_staff = ['Potato', 'Tomato', 'Mango', 'Milk'];\n",
        "remove_item(food_staff, 'Mango')\n"
      ],
      "metadata": {
        "colab": {
          "base_uri": "https://localhost:8080/"
        },
        "id": "_NehV1MZlWiK",
        "outputId": "c4c642ae-2ebe-49b6-f4fa-3de73023dd1d"
      },
      "execution_count": null,
      "outputs": [
        {
          "output_type": "execute_result",
          "data": {
            "text/plain": [
              "['Potato', 'Tomato', 'Milk']"
            ]
          },
          "metadata": {},
          "execution_count": 30
        }
      ]
    },
    {
      "cell_type": "markdown",
      "source": [
        "### 13\n",
        "Declare a function named sum_of_numbers. It takes a number parameter and it adds all the numbers in that range."
      ],
      "metadata": {
        "id": "aCPMVC5wn4dN"
      }
    },
    {
      "cell_type": "code",
      "source": [
        "def sum_of_numbers(num):\n",
        "  sum_num = 0\n",
        "  for i in range(num+1):\n",
        "    sum_num += i\n",
        "\n",
        "  return(sum_num)"
      ],
      "metadata": {
        "id": "egCRwqUnn6sP"
      },
      "execution_count": null,
      "outputs": []
    },
    {
      "cell_type": "code",
      "source": [
        "sum_of_numbers(5)\n",
        "sum_of_numbers(100)"
      ],
      "metadata": {
        "colab": {
          "base_uri": "https://localhost:8080/"
        },
        "id": "MnHYOc5rocpR",
        "outputId": "f5e2f48c-9578-4b84-f0ed-4cc77158b7a5"
      },
      "execution_count": null,
      "outputs": [
        {
          "output_type": "execute_result",
          "data": {
            "text/plain": [
              "5050"
            ]
          },
          "metadata": {},
          "execution_count": 43
        }
      ]
    },
    {
      "cell_type": "markdown",
      "source": [
        "### 14.\n",
        "Declare a function named sum_of_odds. It takes a number parameter and it adds all the odd numbers in that range."
      ],
      "metadata": {
        "id": "OBzsJlbzpA-t"
      }
    },
    {
      "cell_type": "code",
      "source": [
        "def sum_of_odds(num):\n",
        "  sum_odd = 0\n",
        "  for i in range(num+1):\n",
        "    if i % 2 != 0:\n",
        "      sum_odd += i\n",
        "  return sum_odd"
      ],
      "metadata": {
        "id": "qtWxWmuOpEfY"
      },
      "execution_count": null,
      "outputs": []
    },
    {
      "cell_type": "code",
      "source": [
        "sum_of_odds(6)"
      ],
      "metadata": {
        "colab": {
          "base_uri": "https://localhost:8080/"
        },
        "id": "2iF-ZH2spWs9",
        "outputId": "af05a1d6-05b7-488c-9f8c-07937a464079"
      },
      "execution_count": null,
      "outputs": [
        {
          "output_type": "execute_result",
          "data": {
            "text/plain": [
              "9"
            ]
          },
          "metadata": {},
          "execution_count": 52
        }
      ]
    },
    {
      "cell_type": "markdown",
      "source": [
        "### 15.\n",
        "Declare a function named sum_of_even It takes a number parameter and it adds all the even numbers in that range."
      ],
      "metadata": {
        "id": "u4ue1IP_qdoH"
      }
    },
    {
      "cell_type": "code",
      "source": [
        "def sum_of_even(num):\n",
        "  sum_even = 0\n",
        "  for i in range(num+1):\n",
        "    if i % 2 == 0:\n",
        "      sum_even += i\n",
        "  return sum_even"
      ],
      "metadata": {
        "id": "oK4GlPYRqin8"
      },
      "execution_count": null,
      "outputs": []
    },
    {
      "cell_type": "code",
      "source": [
        "sum_of_even(100)"
      ],
      "metadata": {
        "colab": {
          "base_uri": "https://localhost:8080/"
        },
        "id": "O2xT3WIoqq3X",
        "outputId": "08fa33b8-1b30-4231-a279-516471bef4e5"
      },
      "execution_count": null,
      "outputs": [
        {
          "output_type": "execute_result",
          "data": {
            "text/plain": [
              "2550"
            ]
          },
          "metadata": {},
          "execution_count": 64
        }
      ]
    },
    {
      "cell_type": "markdown",
      "source": [
        "### 16.\n",
        "Declare a function named evens_and_odds . It takes a positive integer as parameter and it counts number of evens and odds in the number."
      ],
      "metadata": {
        "id": "BCim-cJ3qz19"
      }
    },
    {
      "cell_type": "code",
      "source": [
        "def evens_and_odds(num):\n",
        "  sum_odd = 0\n",
        "  sum_even = 0\n",
        "\n",
        "  for i in range(num+1):\n",
        "    if i % 2 == 0:\n",
        "      sum_even +=1\n",
        "\n",
        "    elif i % 2 != 0:\n",
        "      sum_odd += 1\n",
        "\n",
        "  print(f\"total of even number is {sum_even}\")\n",
        "  print(f\"total of odd number is {sum_odd}\")"
      ],
      "metadata": {
        "id": "lVwUmSdcq2VI"
      },
      "execution_count": null,
      "outputs": []
    },
    {
      "cell_type": "code",
      "source": [
        "evens_and_odds(100)"
      ],
      "metadata": {
        "colab": {
          "base_uri": "https://localhost:8080/"
        },
        "id": "gRjs5GzRtK4f",
        "outputId": "4ace76a3-e228-427d-88ce-ca5628002de2"
      },
      "execution_count": null,
      "outputs": [
        {
          "output_type": "stream",
          "name": "stdout",
          "text": [
            "total of even number is 51\n",
            "total of odd number is 50\n"
          ]
        }
      ]
    },
    {
      "cell_type": "markdown",
      "source": [
        "### 17.\n",
        "Call your function factorial, it takes a whole number as a parameter and it return a factorial of the number"
      ],
      "metadata": {
        "id": "eoxelgfauHty"
      }
    },
    {
      "cell_type": "code",
      "source": [
        "def factorial(num):\n",
        "  factorial = 0\n",
        "  for i in range(num+1):\n",
        "    factorial += i\n",
        "\n",
        "  return factorial\n"
      ],
      "metadata": {
        "id": "vAr1AIRjuKpg"
      },
      "execution_count": null,
      "outputs": []
    },
    {
      "cell_type": "code",
      "source": [
        "factorial(5)"
      ],
      "metadata": {
        "colab": {
          "base_uri": "https://localhost:8080/"
        },
        "id": "jD0TBMA6vyn_",
        "outputId": "4030c95b-0f42-4006-ffc5-6c4d51efaff1"
      },
      "execution_count": null,
      "outputs": [
        {
          "output_type": "execute_result",
          "data": {
            "text/plain": [
              "15"
            ]
          },
          "metadata": {},
          "execution_count": 70
        }
      ]
    },
    {
      "cell_type": "markdown",
      "source": [
        "### 18.\n",
        "Call your function is_empty, it takes a parameter and it checks if it is empty or not"
      ],
      "metadata": {
        "id": "PuHLuFRewWsf"
      }
    },
    {
      "cell_type": "code",
      "source": [
        "def is_empty(param):\n",
        "  if not param:\n",
        "    return True\n",
        "\n",
        "  else :\n",
        "    return False"
      ],
      "metadata": {
        "id": "Jjkx_ZX1wauJ"
      },
      "execution_count": null,
      "outputs": []
    },
    {
      "cell_type": "code",
      "source": [
        "is_empty(\"a\")"
      ],
      "metadata": {
        "colab": {
          "base_uri": "https://localhost:8080/"
        },
        "id": "zaufmqvcw7we",
        "outputId": "df94f5b1-b4c3-4fa6-b51f-2e8d6ce1306a"
      },
      "execution_count": null,
      "outputs": [
        {
          "output_type": "execute_result",
          "data": {
            "text/plain": [
              "False"
            ]
          },
          "metadata": {},
          "execution_count": 85
        }
      ]
    },
    {
      "cell_type": "markdown",
      "source": [
        "### 19\n",
        "Write different functions which take lists. They should calculate_mean, calculate_median, calculate_mode, calculate_range, calculate_variance, calculate_std (standard deviation)."
      ],
      "metadata": {
        "id": "PwiqSUmTxwA_"
      }
    },
    {
      "cell_type": "code",
      "source": [
        "list_a = [10,9,8,7,6,5,4,3,2,1]"
      ],
      "metadata": {
        "id": "PwAwYLCbK84r"
      },
      "execution_count": null,
      "outputs": []
    },
    {
      "cell_type": "code",
      "source": [
        "list_a.sort()\n",
        "list_a\n",
        "int(len(list_a)/2)"
      ],
      "metadata": {
        "colab": {
          "base_uri": "https://localhost:8080/"
        },
        "id": "p_A_JRMgOz1Y",
        "outputId": "cd5a9eb1-eef8-46e7-eaf0-e4499c454491"
      },
      "execution_count": null,
      "outputs": [
        {
          "output_type": "execute_result",
          "data": {
            "text/plain": [
              "5"
            ]
          },
          "metadata": {},
          "execution_count": 85
        }
      ]
    },
    {
      "cell_type": "code",
      "source": [
        "def calculate_mean(list_range):\n",
        "  total = 0\n",
        "  for i in list_range:\n",
        "    total += i\n",
        "  mean = total/len(list_range)\n",
        "\n",
        "  return mean\n",
        "\n"
      ],
      "metadata": {
        "id": "gQBaaypGx3V7"
      },
      "execution_count": null,
      "outputs": []
    },
    {
      "cell_type": "code",
      "source": [
        "calculate_mean(list_a)"
      ],
      "metadata": {
        "colab": {
          "base_uri": "https://localhost:8080/"
        },
        "id": "LraNIYUgJF01",
        "outputId": "ad27d675-77b7-423e-859e-8fe2d3831b13"
      },
      "execution_count": null,
      "outputs": [
        {
          "output_type": "execute_result",
          "data": {
            "text/plain": [
              "5.5"
            ]
          },
          "metadata": {},
          "execution_count": 18
        }
      ]
    },
    {
      "cell_type": "code",
      "source": [
        "len(list_a)\n",
        "len(list_a)/2\n",
        "int((len(list_a)+1)/2)"
      ],
      "metadata": {
        "colab": {
          "base_uri": "https://localhost:8080/"
        },
        "id": "HWRPmAvLNDl6",
        "outputId": "fbbbc526-09e5-409a-e61d-b693914a6136"
      },
      "execution_count": null,
      "outputs": [
        {
          "output_type": "execute_result",
          "data": {
            "text/plain": [
              "5"
            ]
          },
          "metadata": {},
          "execution_count": 80
        }
      ]
    },
    {
      "cell_type": "code",
      "source": [
        "def calculate_median(list_range):\n",
        "\n",
        "  list_range.sort()\n",
        "  if len(list_range) % 2 == 0:\n",
        "    x = list_range[int((len(list_range)/2)-1)]\n",
        "    y = list_range[int(len(list_range)/2)]\n",
        "    median_even = (x+y)/2\n",
        "\n",
        "    return median_even\n",
        "\n",
        "  elif len(list_range) % 2 != 0:\n",
        "    median_odd = list_range[int((len(list_range)-1)/2)]\n",
        "\n",
        "    return median_odd\n"
      ],
      "metadata": {
        "id": "Fh7jQdpeKvUV"
      },
      "execution_count": null,
      "outputs": []
    },
    {
      "cell_type": "code",
      "source": [
        "list_a = [10,9,8,7,6,5,4,3,2,1]\n",
        "list_b = [11,10,9,8,7,13,5,4,3,2,1]\n",
        "list_c = [11,9,9,8,7,13,5,5,3,1,1,1,1]"
      ],
      "metadata": {
        "id": "kidj6jcFYAsK"
      },
      "execution_count": null,
      "outputs": []
    },
    {
      "cell_type": "code",
      "source": [
        "calculate_median(list_a)"
      ],
      "metadata": {
        "colab": {
          "base_uri": "https://localhost:8080/"
        },
        "id": "GIM1p1NcKg85",
        "outputId": "5191c32c-bacc-4bf5-ae9b-8cb6604c0f64"
      },
      "execution_count": null,
      "outputs": [
        {
          "output_type": "execute_result",
          "data": {
            "text/plain": [
              "5.5"
            ]
          },
          "metadata": {},
          "execution_count": 144
        }
      ]
    },
    {
      "cell_type": "code",
      "source": [
        "calculate_median(list_b)"
      ],
      "metadata": {
        "colab": {
          "base_uri": "https://localhost:8080/"
        },
        "id": "3q9HsccFX7_I",
        "outputId": "89dc2ee0-3a3a-4bd0-de64-7519caaa0816"
      },
      "execution_count": null,
      "outputs": [
        {
          "output_type": "execute_result",
          "data": {
            "text/plain": [
              "7"
            ]
          },
          "metadata": {},
          "execution_count": 141
        }
      ]
    },
    {
      "cell_type": "code",
      "source": [
        "from IPython.core.completer import keyword\n",
        "def calculate_mode(list_range):\n",
        "  list_dict = {}\n",
        "  for i in list_range:\n",
        "    if i in list_dict :\n",
        "      list_dict[i] += 1\n",
        "    else:\n",
        "      list_dict[i] = 1\n",
        "  return list_dict"
      ],
      "metadata": {
        "id": "6xSoJ3kga9qo"
      },
      "execution_count": null,
      "outputs": []
    },
    {
      "cell_type": "code",
      "source": [
        "\n",
        "def calculate_mode1(list_range):\n",
        "  list_dict = {}\n",
        "  for i in list_range:\n",
        "    if i in list_dict :\n",
        "      list_dict[i] += 1\n",
        "    else:\n",
        "      list_dict[i] = 1\n",
        "\n",
        "  max_val = max((list_dict.values()))\n",
        "\n",
        "  for key in list_dict.keys():\n",
        "    if list_dict[key] == max_val:\n",
        "      print(key)"
      ],
      "metadata": {
        "id": "xRQvFs6_eCJR"
      },
      "execution_count": null,
      "outputs": []
    },
    {
      "cell_type": "code",
      "source": [
        "calculate_mode(list_c)"
      ],
      "metadata": {
        "colab": {
          "base_uri": "https://localhost:8080/"
        },
        "id": "B3__MBnIchqj",
        "outputId": "393044f8-0d4f-43b8-a392-077ad3d017e4"
      },
      "execution_count": null,
      "outputs": [
        {
          "output_type": "execute_result",
          "data": {
            "text/plain": [
              "{11: 1, 9: 2, 8: 1, 7: 1, 13: 1, 5: 2, 3: 1, 1: 4}"
            ]
          },
          "metadata": {},
          "execution_count": 182
        }
      ]
    },
    {
      "cell_type": "code",
      "source": [
        "calculate_mode1(list_c)"
      ],
      "metadata": {
        "colab": {
          "base_uri": "https://localhost:8080/"
        },
        "id": "bAnyIOaffY04",
        "outputId": "62c672bd-d355-442e-da28-b06c8340d535"
      },
      "execution_count": null,
      "outputs": [
        {
          "output_type": "stream",
          "name": "stdout",
          "text": [
            "1\n"
          ]
        }
      ]
    },
    {
      "cell_type": "code",
      "source": [
        "def ranges(list_range):\n",
        "  list_range.sort()\n",
        "  first_num = list_range[0]\n",
        "  last_num = list_range[-1]\n",
        "\n",
        "  ranges = last_num-first_num\n",
        "\n",
        "  return ranges"
      ],
      "metadata": {
        "id": "Rdr7XkBMhyCq"
      },
      "execution_count": null,
      "outputs": []
    },
    {
      "cell_type": "code",
      "source": [
        "ranges(list_a)"
      ],
      "metadata": {
        "colab": {
          "base_uri": "https://localhost:8080/"
        },
        "id": "_u1qo3nniF9B",
        "outputId": "3478fcef-b7f0-43b0-d781-746c3dd8c170"
      },
      "execution_count": null,
      "outputs": [
        {
          "output_type": "execute_result",
          "data": {
            "text/plain": [
              "9"
            ]
          },
          "metadata": {},
          "execution_count": 231
        }
      ]
    },
    {
      "cell_type": "code",
      "source": [
        "def cal_variance(list_range):\n",
        "  total = 0\n",
        "  square_ =0\n",
        "\n",
        "  for i in list_range:\n",
        "    total += i\n",
        "    mean = total/len(list_range)\n",
        "\n",
        "  for i in list_range:\n",
        "    square_ += (i-mean)**2\n",
        "    variance = square_/len(list_range)\n",
        "\n",
        "\n",
        "  return variance"
      ],
      "metadata": {
        "id": "p58WXORWiO8q"
      },
      "execution_count": null,
      "outputs": []
    },
    {
      "cell_type": "code",
      "source": [
        "cal_variance(list_a)"
      ],
      "metadata": {
        "colab": {
          "base_uri": "https://localhost:8080/"
        },
        "id": "ha2PMJ2DjEfG",
        "outputId": "29d45b1c-53ed-4d56-9611-0af454ef3be1"
      },
      "execution_count": null,
      "outputs": [
        {
          "output_type": "execute_result",
          "data": {
            "text/plain": [
              "8.25"
            ]
          },
          "metadata": {},
          "execution_count": 249
        }
      ]
    },
    {
      "cell_type": "code",
      "source": [
        "def std_deviation(list_range):\n",
        "  total = 0\n",
        "  square_ =0\n",
        "\n",
        "  for i in list_range:\n",
        "    total += i\n",
        "    mean = total/len(list_range)\n",
        "\n",
        "  for i in list_range:\n",
        "    square_ += (i-mean)**2\n",
        "    variance = square_/len(list_range)\n",
        "\n",
        "    std_deviation = variance ** 1/2\n",
        "\n",
        "\n",
        "  return std_deviation"
      ],
      "metadata": {
        "id": "UtzLZ_NupRq8"
      },
      "execution_count": null,
      "outputs": []
    },
    {
      "cell_type": "code",
      "source": [
        "std_deviation(list_a)"
      ],
      "metadata": {
        "colab": {
          "base_uri": "https://localhost:8080/"
        },
        "id": "IVdUXLrmrl2l",
        "outputId": "1a1c4552-25bf-49c6-d5bd-e49c470d046f"
      },
      "execution_count": null,
      "outputs": [
        {
          "output_type": "execute_result",
          "data": {
            "text/plain": [
              "4.125"
            ]
          },
          "metadata": {},
          "execution_count": 251
        }
      ]
    },
    {
      "cell_type": "markdown",
      "source": [
        "### 20\n",
        "1. Write a function called is_prime, which checks if a number is prime.\n",
        "2. Write a functions which checks if all items are unique in the list.\n",
        "3. Write a function which checks if all the items of the list are of the same data type.\n",
        "4. Write a function which check if provided variable is a valid python variable"
      ],
      "metadata": {
        "id": "YYxkahDbr_6d"
      }
    },
    {
      "cell_type": "code",
      "source": [
        "def is_prime(num):\n",
        "  if (num > 1 and num %2 != 0) or num == 2:\n",
        "    print(f\"{num} adalah bilangan prima\")\n",
        "\n",
        "  else :\n",
        "    print(f\"{num} bukan bilangan prima\")"
      ],
      "metadata": {
        "id": "Z3UwbrXJsaH8"
      },
      "execution_count": null,
      "outputs": []
    },
    {
      "cell_type": "code",
      "source": [
        "is_prime(2)"
      ],
      "metadata": {
        "colab": {
          "base_uri": "https://localhost:8080/"
        },
        "id": "fwIgO6Auh9S6",
        "outputId": "45c8566a-99b2-4f28-e675-c4aae4322d6a"
      },
      "execution_count": null,
      "outputs": [
        {
          "output_type": "stream",
          "name": "stdout",
          "text": [
            "2 adalah bilangan prima\n"
          ]
        }
      ]
    },
    {
      "cell_type": "code",
      "source": [
        "def are_unique(num_list):\n",
        "  list_new = []\n",
        "  for i in num_list:\n",
        "    if i not in list_new:\n",
        "      list_new.append(i)\n",
        "\n",
        "  if len(num_list) == len(list_new):\n",
        "    print('unique')\n",
        "\n",
        "  else:\n",
        "    print('not unique')"
      ],
      "metadata": {
        "id": "HhMfdj3zkbQ5"
      },
      "execution_count": 9,
      "outputs": []
    },
    {
      "cell_type": "code",
      "source": [
        "num_list = [1,2,3]"
      ],
      "metadata": {
        "id": "c-gfnk-RzHsB"
      },
      "execution_count": 10,
      "outputs": []
    },
    {
      "cell_type": "code",
      "source": [
        "are_unique(num_list)"
      ],
      "metadata": {
        "colab": {
          "base_uri": "https://localhost:8080/"
        },
        "id": "UiUBFM2OzN4f",
        "outputId": "a6e61529-359d-446d-830a-7416e6f17b68"
      },
      "execution_count": 11,
      "outputs": [
        {
          "output_type": "stream",
          "name": "stdout",
          "text": [
            "unique\n"
          ]
        }
      ]
    },
    {
      "cell_type": "code",
      "source": [
        "nul_list = [1,2,3,'a']"
      ],
      "metadata": {
        "id": "JOJxY96Zwi7R"
      },
      "execution_count": 13,
      "outputs": []
    },
    {
      "cell_type": "code",
      "source": [
        "same_dtype(nul_list)"
      ],
      "metadata": {
        "colab": {
          "base_uri": "https://localhost:8080/"
        },
        "id": "L2EXNR8dzPSU",
        "outputId": "f79dc903-7144-435a-c094-c001b04468ce"
      },
      "execution_count": 14,
      "outputs": [
        {
          "output_type": "stream",
          "name": "stdout",
          "text": [
            "not unique\n"
          ]
        }
      ]
    },
    {
      "cell_type": "code",
      "source": [
        "x = [1,1,2,3]"
      ],
      "metadata": {
        "id": "YFtYINmIycPx"
      },
      "execution_count": 39,
      "outputs": []
    },
    {
      "cell_type": "code",
      "source": [
        "def same_dtype(x):\n",
        "  list_dtype = []\n",
        "  for i in x:\n",
        "    if type(i) not in list_dtype:\n",
        "      list_dtype.append((type(i)))\n",
        "\n",
        "  if len(list_dtype) == 1:\n",
        "     print('same dtype')\n",
        "\n",
        "  else:\n",
        "     print('not same dtype')\n"
      ],
      "metadata": {
        "id": "_RV_0G2M52eS"
      },
      "execution_count": 40,
      "outputs": []
    },
    {
      "cell_type": "code",
      "source": [
        "same_dtype(x)"
      ],
      "metadata": {
        "colab": {
          "base_uri": "https://localhost:8080/"
        },
        "id": "Oqav0aET05se",
        "outputId": "f540e79e-d010-4c41-9010-6496bc0dba53"
      },
      "execution_count": 41,
      "outputs": [
        {
          "output_type": "stream",
          "name": "stdout",
          "text": [
            "same dtype\n"
          ]
        }
      ]
    },
    {
      "cell_type": "code",
      "source": [
        "url = 'https://www.kaggle.com/code/houssnachana/detecting-phising-urls/notebook'"
      ],
      "metadata": {
        "id": "abGbesZJwJzx"
      },
      "execution_count": null,
      "outputs": []
    },
    {
      "cell_type": "code",
      "source": [
        "from urllib.parse import urlparse"
      ],
      "metadata": {
        "id": "AYwDFqu4wzxW"
      },
      "execution_count": null,
      "outputs": []
    },
    {
      "cell_type": "code",
      "source": [
        "import re"
      ],
      "metadata": {
        "id": "CGyYUdUfy2gy"
      },
      "execution_count": null,
      "outputs": []
    },
    {
      "cell_type": "code",
      "source": [
        "hostname = urlparse(url).hostname"
      ],
      "metadata": {
        "id": "RpktX8ibwIw7"
      },
      "execution_count": null,
      "outputs": []
    },
    {
      "cell_type": "code",
      "source": [
        "hostname"
      ],
      "metadata": {
        "id": "_E1IBHqWwRHQ"
      },
      "execution_count": null,
      "outputs": []
    },
    {
      "cell_type": "code",
      "source": [
        "match = re.search(hostname, url)\n",
        "match"
      ],
      "metadata": {
        "colab": {
          "base_uri": "https://localhost:8080/"
        },
        "id": "WQfZDcQMyp2Z",
        "outputId": "b2bb76f8-a4a0-4a47-827e-acaf5c6f8b29"
      },
      "execution_count": null,
      "outputs": [
        {
          "output_type": "execute_result",
          "data": {
            "text/plain": [
              "<re.Match object; span=(8, 22), match='www.kaggle.com'>"
            ]
          },
          "metadata": {},
          "execution_count": 30
        }
      ]
    },
    {
      "cell_type": "code",
      "source": [],
      "metadata": {
        "id": "47ecynPzwJeM"
      },
      "execution_count": null,
      "outputs": []
    }
  ]
}